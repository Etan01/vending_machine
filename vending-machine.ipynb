{
 "cells": [
  {
   "cell_type": "markdown",
   "id": "92faa549",
   "metadata": {},
   "source": [
    "Name: Tan Eng Teck"
   ]
  },
  {
   "cell_type": "markdown",
   "id": "d2a0f06f",
   "metadata": {},
   "source": [
    "# Vending Machine\n",
    "\n",
    "This is a vending machine that offers a variety of beverages in different prices. Customers can select the beverage from the provided list and pay the price tagged in the machine. Since the vending machine has a limited supply of currency notes, it aims to dispense the fewest possible notes. For instance, if the price is RM10 and the customer pays RM50, the machine should give back 2xRM20 instead of 4xRM10. To address this, dynamic programming such as memorization is utilised to efficiently manage note distribution.\n",
    "\n",
    "### Latest Update:\n",
    "- Dictionary is introduced to the vending machine, detailing the quantity of notes available in the machine. If the machine runs low of the relevant notes, it may proceed to dispense the smaller note to the customers."
   ]
  },
  {
   "cell_type": "code",
   "execution_count": 2,
   "id": "b2ae0a92",
   "metadata": {},
   "outputs": [],
   "source": [
    "from math import inf"
   ]
  },
  {
   "cell_type": "code",
   "execution_count": 3,
   "id": "64a9fc31",
   "metadata": {},
   "outputs": [],
   "source": [
    "def note_change(N, notes):\n",
    "    \"\"\"\n",
    "    Complexity: O(NM) where N is the number of note and M is the length of the notes\n",
    "    Returns: \n",
    "        Param1: The balances of notes return out\n",
    "        Param2: THe number of notes\n",
    "    \"\"\"\n",
    "    memo = [inf] * (N+1)\n",
    "    memo[0] = 0\n",
    "    \n",
    "    combination = [[] for _ in range(N+1)]\n",
    "    \n",
    "    M = len(notes)\n",
    "    for value in range(1, N+1):              #O(N) the dollars\n",
    "        for j in range(M):                   #O(M) length of list note\n",
    "            if notes[j] <= value:            #check if dollars are greater or equal than the notes available\n",
    "                balance = value - notes[j]   #deduct to the get the balance and the index of the memo\n",
    "                count = 1+memo[balance]      #plus one for another note\n",
    "                if count < memo[value]:      #if found a lower number of notes\n",
    "                    memo[value] = count      #memo[index] = the best solution\n",
    "                    combination[value] = combination[value - notes[j]] + [notes[j]]\n",
    "#     print(combination)\n",
    "    notes_return = combination[N]\n",
    "    return notes_return, memo[N]"
   ]
  },
  {
   "cell_type": "code",
   "execution_count": 4,
   "id": "f1b176b9",
   "metadata": {},
   "outputs": [
    {
     "name": "stdout",
     "output_type": "stream",
     "text": [
      "Notes return are [10, 1, 1]\n",
      "Number of notes return are 3\n"
     ]
    }
   ],
   "source": [
    "#Test Function:\n",
    "N = 12\n",
    "notes = [1, 5, 10, 20, 50, 100]\n",
    "notes_return, count = note_change(N, notes)\n",
    "print(\"Notes return are {0}\".format(notes_return))\n",
    "print(\"Number of notes return are {0}\".format(count))"
   ]
  },
  {
   "cell_type": "code",
   "execution_count": 5,
   "id": "a912512c",
   "metadata": {},
   "outputs": [
    {
     "name": "stdout",
     "output_type": "stream",
     "text": [
      "Notes return are [10]\n",
      "Number of notes return are 1\n"
     ]
    }
   ],
   "source": [
    "N = 10\n",
    "notes = [1, 5, 10, 20, 50, 100]\n",
    "notes_return, count = note_change(N, notes)\n",
    "print(\"Notes return are {0}\".format(notes_return))\n",
    "print(\"Number of notes return are {0}\".format(count))"
   ]
  },
  {
   "cell_type": "code",
   "execution_count": 6,
   "id": "dd204d19",
   "metadata": {},
   "outputs": [],
   "source": [
    "def vending_machine():\n",
    "    \"\"\"\n",
    "    Assumming there are many types of ringgit\n",
    "    \n",
    "    Give there are 5 different beverages of different prices in RM, user can\n",
    "    insert any notes they have and the machine should return the balance if\n",
    "    there is exceeding amount. If the notes are smaller than the price, the \n",
    "    machine shall ask for remaining balances until it is sold.\n",
    "    \"\"\"\n",
    "    beverages = [1, 2, 3, 5, 10]\n",
    "    print(\"Beverage: \", beverages)\n",
    "    num = int(input(\"Please select a number: \"))\n",
    "    if num <= 0 or num > len(beverages):\n",
    "        print(\"Error. Please select a valid number\")\n",
    "        return\n",
    "    price = beverages[num-1] \n",
    "    print(\"The price of beverage is RM\", price)\n",
    "    remaining = 0\n",
    "\n",
    "    try:\n",
    "        while True:\n",
    "            input_notes = int(input(\"Please insert notes: RM \"))\n",
    "\n",
    "            if input_notes >= price:\n",
    "                N = input_notes - price\n",
    "                available_notes = [1,5,10,20,50,100]\n",
    "                notes_return, count = note_change(N, notes)\n",
    "                print(\"The balance of notes in ringgit (RM) is {0}\".format(notes_return))\n",
    "                print(\"Number of notes output are {0}\".format(count))\n",
    "                break\n",
    "                \n",
    "            else:\n",
    "                price = price - input_notes\n",
    "                print(\"Please insert remaining balances: RM \", price)\n",
    "        \n",
    "    except Exception as e:\n",
    "        print(e)\n",
    "        print(\"Something else went wrong\")  "
   ]
  },
  {
   "cell_type": "code",
   "execution_count": 97,
   "id": "4fe30f36",
   "metadata": {},
   "outputs": [],
   "source": [
    "def get_change(notes_return, dictionary):\n",
    "    # New Section: Add finite number of available notes\n",
    "    lst = []\n",
    "    for note in notes_return:                 \n",
    "        if dictionary[str(note)] > 0 and str(note) in dictionary:\n",
    "            lst.append(note)\n",
    "            dictionary[str(note)] -= 1\n",
    "        else:\n",
    "            while note > 0:\n",
    "                available = sorted([int(key) for key in dictionary.keys() if dictionary[key] > 0], reverse=True)\n",
    "                selected_note = None\n",
    "\n",
    "                for available_note in available:\n",
    "                    if available_note <= note:\n",
    "                        selected_note = available_note\n",
    "                        break\n",
    "\n",
    "                if selected_note is None:\n",
    "                    break\n",
    "\n",
    "                lst.append(selected_note)\n",
    "                dictionary[str(selected_note)] -= 1\n",
    "                note -= selected_note\n",
    "    return lst\n",
    "            \n",
    "\n",
    "def vending_machine_finite():\n",
    "    beverages = [1, 2, 3, 5, 10]\n",
    "    #finite number of notes\n",
    "    dictionary = {\n",
    "        \"100\": 1,\n",
    "        \"50\": 1,\n",
    "        \"20\": 1,\n",
    "        \"10\": 2,\n",
    "        \"5\": 1,\n",
    "        \"1\": 25,\n",
    "    }\n",
    "    print(\"Beverage: \", beverages)\n",
    "    num = int(input(\"Please select a number: \"))\n",
    "    if num <= 0 or num > len(beverages):\n",
    "        print(\"Error. Please select a valid number\")\n",
    "        return\n",
    "    price = beverages[num-1] \n",
    "    print(\"The price of beverage is RM\", price)\n",
    "    remaining = 0\n",
    "\n",
    "    try:\n",
    "        while True:\n",
    "            input_notes = int(input(\"Please insert notes: RM \"))\n",
    "\n",
    "            if input_notes >= price:\n",
    "                N = input_notes - price\n",
    "                available_notes = [1,5,10,20,50,100]\n",
    "                notes_return, count = note_change(N, notes)\n",
    "                print(\"The least number of notes to return \", notes_return)\n",
    "                \n",
    "                lst = get_change(notes_return, dictionary)\n",
    "                \n",
    "                print(\"The balance of notes in ringgit (RM) is {0}\".format(lst))\n",
    "                print(\"Number of notes output are {0}\".format(len(lst)))\n",
    "                break\n",
    "                \n",
    "            else:\n",
    "                price = price - input_notes\n",
    "                print(\"Please insert remaining balances: RM \", price)\n",
    "        \n",
    "    except Exception as e:\n",
    "        print(e)\n",
    "        print(\"Something else went wrong\")  \n"
   ]
  },
  {
   "cell_type": "code",
   "execution_count": 99,
   "id": "0d4f23e5",
   "metadata": {},
   "outputs": [
    {
     "name": "stdout",
     "output_type": "stream",
     "text": [
      "Beverage:  [1, 2, 3, 5, 10]\n",
      "Please select a number: 5\n",
      "The price of beverage is RM 10\n",
      "Please insert notes: RM 14\n",
      "The least number of notes to return  [1, 1, 1, 1]\n",
      "The balance of notes in ringgit (RM) is [1, 1, 1, 1]\n",
      "Number of notes output are 4\n"
     ]
    }
   ],
   "source": [
    "vending_machine_finite()"
   ]
  },
  {
   "cell_type": "markdown",
   "id": "39808d8f",
   "metadata": {},
   "source": [
    "### Testing"
   ]
  },
  {
   "cell_type": "code",
   "execution_count": 9,
   "id": "a79e714d",
   "metadata": {
    "scrolled": true
   },
   "outputs": [
    {
     "name": "stdout",
     "output_type": "stream",
     "text": [
      "Beverage:  [1, 2, 3, 5, 10]\n",
      "Please select a number: 3\n",
      "The price of beverage is RM 3\n",
      "Please insert notes: RM 3\n",
      "The balance of notes in ringgit (RM) is []\n",
      "Number of notes output are 0\n"
     ]
    }
   ],
   "source": [
    "#When inserted note is the price\n",
    "vending_machine()"
   ]
  },
  {
   "cell_type": "code",
   "execution_count": 6,
   "id": "4ee0ef23",
   "metadata": {},
   "outputs": [
    {
     "name": "stdout",
     "output_type": "stream",
     "text": [
      "Beverage:  [1, 2, 3, 5, 10]\n",
      "Please select a number: 5\n",
      "The price of beverage is RM 10\n",
      "Please insert notes: RM 100\n",
      "The balance of notes in ringgit (RM) is [50, 20, 20]\n",
      "Number of notes output are 3\n"
     ]
    }
   ],
   "source": [
    "#Ask for remaining balance\n",
    "vending_machine()"
   ]
  },
  {
   "cell_type": "code",
   "execution_count": 13,
   "id": "1440943d",
   "metadata": {},
   "outputs": [
    {
     "name": "stdout",
     "output_type": "stream",
     "text": [
      "Beverage:  [1, 2, 3, 5, 10]\n",
      "Please select a number: 5\n",
      "The price of beverage is RM 10\n",
      "Please insert notes: RM 3\n",
      "Please insert remaining balances: RM  7\n",
      "Please insert notes: RM 3\n",
      "Please insert remaining balances: RM  4\n",
      "Please insert notes: RM 3\n",
      "Please insert remaining balances: RM  1\n",
      "Please insert notes: RM 1\n",
      "The balance of notes in ringgit (RM) is []\n",
      "Number of notes output are 0\n"
     ]
    }
   ],
   "source": [
    "#Ask for remaining balance\n",
    "vending_machine()"
   ]
  },
  {
   "cell_type": "code",
   "execution_count": 14,
   "id": "2222e058",
   "metadata": {},
   "outputs": [
    {
     "name": "stdout",
     "output_type": "stream",
     "text": [
      "Beverage:  [1, 2, 3, 5, 10]\n",
      "Please select a number: 5\n",
      "The price of beverage is RM 10\n",
      "Please insert notes: RM 5\n",
      "Please insert remaining balances: RM  5\n",
      "Please insert notes: RM 6\n",
      "The balance of notes in ringgit (RM) is [1]\n",
      "Number of notes output are 1\n"
     ]
    }
   ],
   "source": [
    "#Ask for remaining balance but give bigger notes\n",
    "vending_machine()"
   ]
  },
  {
   "cell_type": "code",
   "execution_count": 10,
   "id": "1f19fd94",
   "metadata": {},
   "outputs": [
    {
     "name": "stdout",
     "output_type": "stream",
     "text": [
      "Beverage:  [1, 2, 3, 5, 10]\n",
      "Please select a number: -1\n",
      "Error. Please select a valid number\n"
     ]
    }
   ],
   "source": [
    "#Error Check (negative number): \n",
    "vending_machine()"
   ]
  },
  {
   "cell_type": "code",
   "execution_count": 11,
   "id": "89812a06",
   "metadata": {},
   "outputs": [
    {
     "name": "stdout",
     "output_type": "stream",
     "text": [
      "Beverage:  [1, 2, 3, 5, 10]\n",
      "Please select a number: 6\n",
      "Error. Please select a valid number\n"
     ]
    }
   ],
   "source": [
    "#Error Check (out of index): \n",
    "vending_machine()"
   ]
  },
  {
   "cell_type": "code",
   "execution_count": 7,
   "id": "3a0b29b3",
   "metadata": {},
   "outputs": [
    {
     "name": "stdout",
     "output_type": "stream",
     "text": [
      "[[], [1], [1, 1], [1, 1, 1], [1, 1, 1, 1], [5], [5, 1], [5, 1, 1], [5, 1, 1, 1], [5, 1, 1, 1, 1], [10], [10, 1], [10, 1, 1]]\n",
      "[10, 1, 1]\n",
      "3\n"
     ]
    }
   ],
   "source": [
    "from math import inf\n",
    "\n",
    "N = 12\n",
    "notes = [1, 5, 10, 20, 50, 100]\n",
    "\n",
    "memo = [inf] * (N+1)\n",
    "memo[0] = 0\n",
    "\n",
    "combination = [[] for _ in range(N+1)]\n",
    "\n",
    "M = len(notes)\n",
    "for value in range(1, N+1):    #O(N)\n",
    "    for j in range(M):         #O(M)\n",
    "        if notes[j] <= value:\n",
    "            balance = value - notes[j]\n",
    "            count = 1+memo[balance]\n",
    "            if count < memo[value]:\n",
    "                memo[value] = count\n",
    "                combination[value] = combination[value - notes[j]] + [notes[j]]\n",
    "print(combination)\n",
    "notes_return = combination[N]\n",
    "print(notes_return)\n",
    "print(memo[N])"
   ]
  }
 ],
 "metadata": {
  "kernelspec": {
   "display_name": "Python 3 (ipykernel)",
   "language": "python",
   "name": "python3"
  },
  "language_info": {
   "codemirror_mode": {
    "name": "ipython",
    "version": 3
   },
   "file_extension": ".py",
   "mimetype": "text/x-python",
   "name": "python",
   "nbconvert_exporter": "python",
   "pygments_lexer": "ipython3",
   "version": "3.8.8"
  },
  "toc": {
   "base_numbering": 1,
   "nav_menu": {},
   "number_sections": true,
   "sideBar": true,
   "skip_h1_title": false,
   "title_cell": "Table of Contents",
   "title_sidebar": "Contents",
   "toc_cell": false,
   "toc_position": {},
   "toc_section_display": true,
   "toc_window_display": false
  }
 },
 "nbformat": 4,
 "nbformat_minor": 5
}
